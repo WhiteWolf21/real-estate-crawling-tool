{
 "cells": [
  {
   "cell_type": "code",
   "execution_count": 11,
   "metadata": {},
   "outputs": [
    {
     "name": "stdout",
     "output_type": "stream",
     "text": [
      "INFO:tensorflow:Restoring parameters from saved_model\\variables\\variables\n"
     ]
    }
   ],
   "source": [
    "from model_api import get_model_api \n",
    "extract = get_model_api()"
   ]
  },
  {
   "cell_type": "code",
   "execution_count": 12,
   "metadata": {},
   "outputs": [
    {
     "data": {
      "text/plain": [
       "[{'tags': [{'content': 'mua', 'type': 'transaction_type'},\n",
       "   {'content': 'nhà', 'type': 'realestate_type'},\n",
       "   {'content': 'từ', 'type': 'normal'},\n",
       "   {'content': '1 tới 2 tỉ', 'type': 'price'}],\n",
       "  'score': 49.852256774902344}]"
      ]
     },
     "execution_count": 12,
     "metadata": {},
     "output_type": "execute_result"
    }
   ],
   "source": [
    "extract(['mua nhà từ 1 tới 2 tỉ'])"
   ]
  },
  {
   "cell_type": "code",
   "execution_count": null,
   "metadata": {},
   "outputs": [],
   "source": []
  }
 ],
 "metadata": {
  "kernelspec": {
   "display_name": "Python 3",
   "language": "python",
   "name": "python3"
  },
  "language_info": {
   "codemirror_mode": {
    "name": "ipython",
    "version": 3
   },
   "file_extension": ".py",
   "mimetype": "text/x-python",
   "name": "python",
   "nbconvert_exporter": "python",
   "pygments_lexer": "ipython3",
   "version": "3.7.2"
  }
 },
 "nbformat": 4,
 "nbformat_minor": 2
}
